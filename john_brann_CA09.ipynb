{
 "cells": [
  {
   "cell_type": "markdown",
   "id": "0cbe4d1c",
   "metadata": {},
   "source": [
    "# Hash Functions and Hash Tables\n",
    "\n",
    "A hash table is a data structure to store data for fast searching. In particular, it is often implemented as an array of buckets holding your data and the data is indexed by hashing their keys using a hash function that converts a text string into an integer referred to as hash value. The hash value of the key modular the bucket size determines the index of the bucket to hold the data with that key.\n",
    "\n",
    "In Python there’s no need to create your custom implementation of hash functions and hash tables since you may directly use built-in hash function hash(), and directly use dictionaries as hash tables. \n",
    "\n",
    "From the point of learning hash functions and hash tables, it helps to see Python code to create both."
   ]
  },
  {
   "cell_type": "code",
   "execution_count": 46,
   "id": "76b96bdd",
   "metadata": {
    "ExecuteTime": {
     "end_time": "2024-11-04T04:09:30.106017Z",
     "start_time": "2024-11-04T04:09:30.094561Z"
    }
   },
   "outputs": [],
   "source": [
    "import pprint\n",
    "\n",
    "# define my own hash function: k mod m, \n",
    "# where k is the value of the key and m is the range of the hashed index\n",
    "\n",
    "def myhash(key, size): # key is a text string\n",
    "    hash_value = 7; # better use a prime number \n",
    "    for i in range(len(key)):\n",
    "        hash_value = (hash_value * 31 + ord(key[i])) % size\n",
    "        # better use a prime number \n",
    "    return hash_value "
   ]
  },
  {
   "cell_type": "code",
   "execution_count": 47,
   "id": "9e04d58e",
   "metadata": {
    "ExecuteTime": {
     "end_time": "2024-11-04T19:32:49.166266Z",
     "start_time": "2024-11-04T19:32:49.128758Z"
    }
   },
   "outputs": [],
   "source": [
    "class Hashtable:\n",
    "    def __init__(self, dicts): # dicts is a dictionary of (key, value)\n",
    "        self.bucket_size = len(dicts)\n",
    "        self.buckets = [[] for _ in range(self.bucket_size)]\n",
    "        self._assign_buckets(dicts)\n",
    "        \n",
    "    def _assign_buckets(self, dicts): # create a hash table for dicts\n",
    "        for key in dicts:\n",
    "            index = myhash(key, self.bucket_size)\n",
    "            self.buckets[index].append([key, dicts[key]]) \n",
    "\n",
    "    def get_value(self, input_key): # search\n",
    "        index = myhash(input_key, self.bucket_size)\n",
    "        bucket = self.buckets[index]\n",
    "        for key, value in bucket:\n",
    "            if key == input_key:\n",
    "                return(value)\n",
    "        return None\n",
    "\n",
    "    def __str__(self):\n",
    "        return pprint.pformat(self.buckets) # here pformat is used to return a printable representation of the object\n",
    "\n",
    "# open-addressing hash table using linear probing and quadratic probing\n",
    "class OpenAddressingHashTable:\n",
    "    def __init__(self, size=128, probing_method=\"linear\"):\n",
    "        self.table_size = size\n",
    "        self.table = [None] * self.table_size  # array to store key-value pairs\n",
    "        self.probing_method = probing_method   \n",
    "        self.probing_steps = 0  # number of probing steps\n",
    "\n",
    "    def _probe(self, hash_value, step):\n",
    "        if self.probing_method == \"linear\":\n",
    "            return (hash_value + step) % self.table_size\n",
    "        elif self.probing_method == \"quadratic\":\n",
    "            return (hash_value + step**2) % self.table_size\n",
    "\n",
    "    def insert(self, key, value):\n",
    "        hash_value = myhash(key, self.table_size)\n",
    "        step = 0\n",
    "        while True:\n",
    "            index = self._probe(hash_value, step)\n",
    "            self.probing_steps += 1  # Increment probing step counter\n",
    "            if self.table[index] is None or self.table[index][0] == key:\n",
    "                self.table[index] = (key, value)\n",
    "                return\n",
    "            step += 1\n",
    "            if step >= self.table_size:  # Prevent infinite loop if table is full\n",
    "                raise Exception(\"Hash table overflow\")\n",
    "\n",
    "    def get_probing_steps(self):\n",
    "        return self.probing_steps\n",
    "\n",
    "    def reset(self):\n",
    "        self.table = [None] * self.table_size\n",
    "        self.probing_steps = 0"
   ]
  },
  {
   "cell_type": "code",
   "execution_count": 35,
   "id": "ae1056e9",
   "metadata": {
    "ExecuteTime": {
     "end_time": "2024-11-04T19:32:49.625406Z",
     "start_time": "2024-11-04T19:32:49.603562Z"
    },
    "scrolled": true
   },
   "outputs": [
    {
     "name": "stdout",
     "output_type": "stream",
     "text": [
      "regular hash table\n",
      "[[['United States', 'Washington D.C.'], ['Italy', 'Rome']],\n",
      " [['Canada', 'Ottawa']],\n",
      " [['France', 'Paris']],\n",
      " []]\n",
      "The capital of Italy is Rome.\n",
      "Open addressing hash table:\n",
      "[('France', 'Paris'),\n",
      " ('Canada', 'Ottawa'),\n",
      " ('Italy', 'Rome'),\n",
      " ('United States', 'Washington D.C.')]\n",
      "The capital of Italy is Rome.\n"
     ]
    }
   ],
   "source": [
    "if __name__ == \"__main__\":\n",
    "     capitals = {\n",
    "        'France': 'Paris',\n",
    "        'United States': 'Washington D.C.',\n",
    "        'Italy': 'Rome',\n",
    "        'Canada': 'Ottawa'\n",
    "     }\n",
    "\n",
    "\n",
    "hashtable = Hashtable(capitals)\n",
    "print(f'regular hash table')\n",
    "print(hashtable)\n",
    "print(f\"The capital of Italy is {hashtable.get_value('Italy')}.\")\n",
    "\n",
    "\n",
    "open_hashtable = OpenAddressingHashTable(size=128, probing_method=\"linear\")\n",
    "    \n",
    "for country, capital in capitals.items():\n",
    "   open_hashtable.insert(country, capital)\n",
    "\n",
    "print(f'Open addressing hash table:')\n",
    "print(open_hashtable)\n",
    "print(f\"The capital of Italy is {open_hashtable.get_value('Italy')}.\")"
   ]
  },
  {
   "cell_type": "markdown",
   "id": "8bd0fd75",
   "metadata": {},
   "source": [
    "The experiment below compares linear vs quadratic probing, by inserting 4-digit string keys into hash tables over 100 trials. Then tracking and comparing the average number of probing steps for each method."
   ]
  },
  {
   "cell_type": "code",
   "execution_count": 66,
   "id": "e0e459a7",
   "metadata": {},
   "outputs": [
    {
     "name": "stdout",
     "output_type": "stream",
     "text": [
      "Average probing steps for Linear: 302.98\n",
      "Average probing steps for Quadratic: 226.90\n"
     ]
    }
   ],
   "source": [
    "import random\n",
    "\n",
    "def main():\n",
    "    num_trials = 100\n",
    "    table_size = 256\n",
    "    num_keys = 128\n",
    "    linear_probing_steps = 0\n",
    "    quadratic_probing_steps = 0\n",
    "\n",
    "    for _ in range(num_trials):\n",
    "        # Generate m unique 4-digit keys\n",
    "        keys = set()\n",
    "        while len(keys) < num_keys:\n",
    "            keys.add(str(random.randint(1000, 9999))) # using 4 digit ints from 1000 to 9999 to replicate 4 digit codes. \n",
    "\n",
    "        # Initialize linear and quatratic probing hash tables\n",
    "        linear_table = OpenAddressingHashTable(size=table_size, probing_method=\"linear\")\n",
    "        quadratic_table = OpenAddressingHashTable(size=table_size, probing_method=\"quadratic\")\n",
    "\n",
    "        # Linear\n",
    "        for key in keys:\n",
    "            linear_table.insert(key, \"value\")\n",
    "        linear_probing_steps += linear_table.get_probing_steps()\n",
    "        linear_table.reset() \n",
    "\n",
    "        # Quadratic\n",
    "        for key in keys:\n",
    "            quadratic_table.insert(key, \"value\")\n",
    "        quadratic_probing_steps += quadratic_table.get_probing_steps()\n",
    "        quadratic_table.reset() \n",
    "\n",
    "    # Calculate average number of probing steps\n",
    "    avg_linear_probing_steps = linear_probing_steps / num_trials\n",
    "    avg_quadratic_probing_steps = quadratic_probing_steps / num_trials\n",
    "\n",
    "    print(f\"Average probing steps for Linear: {avg_linear_probing_steps:.2f}\")\n",
    "    print(f\"Average probing steps for Quadratic: {avg_quadratic_probing_steps:.2f}\")\n",
    "\n",
    "if __name__ == \"__main__\":\n",
    "    main()"
   ]
  }
 ],
 "metadata": {
  "kernelspec": {
   "display_name": "base",
   "language": "python",
   "name": "python3"
  },
  "language_info": {
   "codemirror_mode": {
    "name": "ipython",
    "version": 3
   },
   "file_extension": ".py",
   "mimetype": "text/x-python",
   "name": "python",
   "nbconvert_exporter": "python",
   "pygments_lexer": "ipython3",
   "version": "3.12.4"
  },
  "toc": {
   "base_numbering": 1,
   "nav_menu": {},
   "number_sections": true,
   "sideBar": true,
   "skip_h1_title": false,
   "title_cell": "Table of Contents",
   "title_sidebar": "Contents",
   "toc_cell": false,
   "toc_position": {},
   "toc_section_display": true,
   "toc_window_display": false
  },
  "varInspector": {
   "cols": {
    "lenName": 16,
    "lenType": 16,
    "lenVar": 40
   },
   "kernels_config": {
    "python": {
     "delete_cmd_postfix": "",
     "delete_cmd_prefix": "del ",
     "library": "var_list.py",
     "varRefreshCmd": "print(var_dic_list())"
    },
    "r": {
     "delete_cmd_postfix": ") ",
     "delete_cmd_prefix": "rm(",
     "library": "var_list.r",
     "varRefreshCmd": "cat(var_dic_list()) "
    }
   },
   "types_to_exclude": [
    "module",
    "function",
    "builtin_function_or_method",
    "instance",
    "_Feature"
   ],
   "window_display": false
  }
 },
 "nbformat": 4,
 "nbformat_minor": 5
}
